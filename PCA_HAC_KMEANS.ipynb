{
 "cells": [
  {
   "cell_type": "markdown",
   "id": "3f7c204f-9bf2-4cc7-9f99-d8476eea41b7",
   "metadata": {},
   "source": [
    "K-MEANS"
   ]
  },
  {
   "cell_type": "code",
   "execution_count": null,
   "id": "533d2b5c-feb0-417d-a20b-7301efa17203",
   "metadata": {},
   "outputs": [],
   "source": []
  }
 ],
 "metadata": {
  "kernelspec": {
   "display_name": "Python 3 (ipykernel)",
   "language": "python",
   "name": "python3"
  },
  "language_info": {
   "codemirror_mode": {
    "name": "ipython",
    "version": 3
   },
   "file_extension": ".py",
   "mimetype": "text/x-python",
   "name": "python",
   "nbconvert_exporter": "python",
   "pygments_lexer": "ipython3",
   "version": "3.12.7"
  }
 },
 "nbformat": 4,
 "nbformat_minor": 5
}
