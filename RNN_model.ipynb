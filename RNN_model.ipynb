{
 "cells": [
  {
   "cell_type": "code",
   "execution_count": null,
   "id": "0b2cccbf-cbbb-4c27-ad1a-6bf7deb66875",
   "metadata": {},
   "outputs": [],
   "source": [
    "import numpy as np\n",
    "import tensorflow as tf\n",
    "from tensorflow import keras\n",
    "from tensorflow.keras.models import Sequential\n",
    "from tensorflow.keras.layers import SimpleRNN, Dense\n",
    "\n",
    "# Generate simple sequential data (e.g., stock prices)\n",
    "X = np.array([[i, i+1, i+2] for i in range(100)])\n",
    "y = np.array([i+3 for i in range(100)])\n",
    "\n",
    "# Reshape X for RNN (samples, timesteps, features)\n",
    "X = X.reshape((X.shape[0], X.shape[1], 1))\n",
    "\n",
    "# Build the RNN model\n",
    "model = Sequential([\n",
    "    SimpleRNN(10, activation=\"tanh\", input_shape=(3, 1)),\n",
    "    Dense(1)  # Output layer for regression\n",
    "])\n",
    "\n",
    "# Compile the model\n",
    "model.compile(optimizer=\"adam\", loss=\"mse\")\n",
    "\n",
    "# Train the model\n",
    "model.fit(X, y, epochs=50, verbose=1)\n",
    "\n",
    "# Make predictions\n",
    "y_pred = model.predict(X[:5])\n",
    "print(\"Predictions:\", y_pred.flatten())\n"
   ]
  }
 ],
 "metadata": {
  "kernelspec": {
   "display_name": "Python 3 (ipykernel)",
   "language": "python",
   "name": "python3"
  },
  "language_info": {
   "codemirror_mode": {
    "name": "ipython",
    "version": 3
   },
   "file_extension": ".py",
   "mimetype": "text/x-python",
   "name": "python",
   "nbconvert_exporter": "python",
   "pygments_lexer": "ipython3",
   "version": "3.12.7"
  }
 },
 "nbformat": 4,
 "nbformat_minor": 5
}
